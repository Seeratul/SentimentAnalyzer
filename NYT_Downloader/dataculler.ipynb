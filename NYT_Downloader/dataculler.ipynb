{
 "cells": [
  {
   "cell_type": "code",
   "execution_count": 1,
   "metadata": {},
   "outputs": [],
   "source": [
    "import pandas as pd\n",
    "#Use your path\n",
    "dfo= pd.read_csv(r'C:\\Users\\Seeratul\\Documents\\GitHub\\BachelorThesis\\code\\filewhole.csv')  "
   ]
  },
  {
   "cell_type": "code",
   "execution_count": 2,
   "metadata": {},
   "outputs": [
    {
     "data": {
      "text/plain": [
       "3518122"
      ]
     },
     "execution_count": 2,
     "metadata": {},
     "output_type": "execute_result"
    }
   ],
   "source": [
    "dfo.shape[0]"
   ]
  },
  {
   "cell_type": "code",
   "execution_count": 3,
   "metadata": {},
   "outputs": [],
   "source": [
    "dfo['date'] = pd.to_datetime(dfo['date'])\n",
    "dfo['year'] = dfo['date'].dt.year"
   ]
  },
  {
   "cell_type": "code",
   "execution_count": 4,
   "metadata": {},
   "outputs": [],
   "source": [
    "dfo = dfo.rename(columns={'headline': 'title'})"
   ]
  },
  {
   "cell_type": "code",
   "execution_count": 5,
   "metadata": {},
   "outputs": [
    {
     "data": {
      "text/html": [
       "<div>\n",
       "<style scoped>\n",
       "    .dataframe tbody tr th:only-of-type {\n",
       "        vertical-align: middle;\n",
       "    }\n",
       "\n",
       "    .dataframe tbody tr th {\n",
       "        vertical-align: top;\n",
       "    }\n",
       "\n",
       "    .dataframe thead th {\n",
       "        text-align: right;\n",
       "    }\n",
       "</style>\n",
       "<table border=\"1\" class=\"dataframe\">\n",
       "  <thead>\n",
       "    <tr style=\"text-align: right;\">\n",
       "      <th></th>\n",
       "      <th>Unnamed: 0</th>\n",
       "      <th>title</th>\n",
       "      <th>date</th>\n",
       "      <th>web_url</th>\n",
       "      <th>doc_type</th>\n",
       "      <th>lead_paragraph</th>\n",
       "      <th>material_type</th>\n",
       "      <th>author</th>\n",
       "      <th>section</th>\n",
       "      <th>subsection</th>\n",
       "      <th>keywords</th>\n",
       "      <th>year</th>\n",
       "    </tr>\n",
       "  </thead>\n",
       "  <tbody>\n",
       "    <tr>\n",
       "      <th>0</th>\n",
       "      <td>0</td>\n",
       "      <td>Sex Guide Is Recalled For Correction of Text</td>\n",
       "      <td>1986-01-01</td>\n",
       "      <td>https://www.nytimes.com/1986/01/01/books/sex-g...</td>\n",
       "      <td>article</td>\n",
       "      <td>Because of what it termed ''a serious error,''...</td>\n",
       "      <td>News</td>\n",
       "      <td>NaN</td>\n",
       "      <td>Books</td>\n",
       "      <td>NaN</td>\n",
       "      <td>['Sex', 'Children and Youth', 'Books and Liter...</td>\n",
       "      <td>1986</td>\n",
       "    </tr>\n",
       "  </tbody>\n",
       "</table>\n",
       "</div>"
      ],
      "text/plain": [
       "   Unnamed: 0                                         title       date  \\\n",
       "0           0  Sex Guide Is Recalled For Correction of Text 1986-01-01   \n",
       "\n",
       "                                             web_url doc_type  \\\n",
       "0  https://www.nytimes.com/1986/01/01/books/sex-g...  article   \n",
       "\n",
       "                                      lead_paragraph material_type author  \\\n",
       "0  Because of what it termed ''a serious error,''...          News    NaN   \n",
       "\n",
       "  section subsection                                           keywords  year  \n",
       "0   Books        NaN  ['Sex', 'Children and Youth', 'Books and Liter...  1986  "
      ]
     },
     "execution_count": 5,
     "metadata": {},
     "output_type": "execute_result"
    }
   ],
   "source": [
    "dfo.head(1)"
   ]
  },
  {
   "cell_type": "code",
   "execution_count": null,
   "metadata": {},
   "outputs": [],
   "source": [
    "dfo.to_csv('filewholeculled.csv')"
   ]
  }
 ],
 "metadata": {
  "kernelspec": {
   "display_name": "sbox",
   "language": "python",
   "name": "python3"
  },
  "language_info": {
   "codemirror_mode": {
    "name": "ipython",
    "version": 3
   },
   "file_extension": ".py",
   "mimetype": "text/x-python",
   "name": "python",
   "nbconvert_exporter": "python",
   "pygments_lexer": "ipython3",
   "version": "3.11.5"
  }
 },
 "nbformat": 4,
 "nbformat_minor": 2
}
