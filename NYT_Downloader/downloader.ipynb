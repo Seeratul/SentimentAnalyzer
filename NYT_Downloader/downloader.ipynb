{
 "cells": [
  {
   "cell_type": "code",
   "execution_count": 1,
   "metadata": {},
   "outputs": [],
   "source": [
    "import pandas as pd\n",
    "import requests\n",
    "import time\n",
    "import dateutil\n",
    "import urllib3\n",
    "urllib3.disable_warnings(urllib3.exceptions.InsecureRequestWarning)\n",
    "     "
   ]
  },
  {
   "cell_type": "code",
   "execution_count": 2,
   "metadata": {},
   "outputs": [],
   "source": [
    "API_KEY = 'xxxxxxxxxxxxxxxxxxxxxxxx' #Your API key here\n",
    "# Change start and end date if you wish\n",
    "start = (1986, 1)\n",
    "end = (2023, 12)\n",
    "start = list(start)\n",
    "end = list(end)"
   ]
  },
  {
   "cell_type": "code",
   "execution_count": 3,
   "metadata": {},
   "outputs": [],
   "source": [
    "def send_request(date):\n",
    "    base_url = 'https://api.nytimes.com/svc/archive/v1/'\n",
    "    url = base_url + '/' + str(date[0]) + '/' + str(date[1]) + '.json?api-key=' + API_KEY\n",
    "    query = requests.get(url)\n",
    "    response = query.json()\n",
    "    time.sleep(12)\n",
    "    return response\n",
    "\n",
    "def parse_response(response):\n",
    "    data = {'headline': [],  \n",
    "        'date': [], \n",
    "        'web_url': [],\n",
    "        'doc_type': [],\n",
    "        'lead_paragraph': [],\n",
    "        'material_type': [],\n",
    "        'author': [],\n",
    "        'section': [],\n",
    "        'subsection': [],\n",
    "        'keywords': []}\n",
    "    \n",
    "    articles = response['response']['docs'] \n",
    "    for article in articles: \n",
    "        date = dateutil.parser.parse(article['pub_date']).date()\n",
    "        data['date'].append(date)\n",
    "        data['headline'].append(article['headline']['main']) \n",
    "        if 'section_name' in article:\n",
    "            data['section'].append(article['section_name'])\n",
    "        else:\n",
    "            data['section'].append(None)\n",
    "        if 'lead_paragraph' in article:\n",
    "            data['lead_paragraph'].append(article['lead_paragraph'])\n",
    "        else:\n",
    "            data['lead_paragraph'].append(None)\n",
    "        if 'web_url' in article:\n",
    "            data['web_url'].append(article['web_url'])\n",
    "        else:\n",
    "            data['web_url'].append(None)\n",
    "        if 'subsection_name' in article:\n",
    "            data['subsection'].append(article['subsection_name'])\n",
    "        else:\n",
    "            data['subsection'].append(None)\n",
    "        if 'byline' in article:\n",
    "            data['author'].append(article['byline']['original'])\n",
    "        else:\n",
    "            data['author'].append(None)\n",
    "        data['doc_type'].append(article['document_type'])\n",
    "        if 'type_of_material' in article: \n",
    "            data['material_type'].append(article['type_of_material'])\n",
    "        else:\n",
    "            data['material_type'].append(None)\n",
    "        keywords = [keyword['value'] for keyword in article['keywords'] if keyword['name'] == 'subject']\n",
    "        data['keywords'].append(keywords)\n",
    "    return pd.DataFrame(data) \n",
    "\n",
    "\n",
    "\n",
    "def get_data(start,end):\n",
    "    df1 = []\n",
    "    df2 = []\n",
    "    df2 =  pd.DataFrame.from_dict(df2)\n",
    "    date = start\n",
    "    while (date[0] <= end[0] and date[1] <= end[1]):\n",
    "            df1 = send_request(date)\n",
    "            df1 = parse_response(df1)\n",
    "            df2 = pd.concat([df2 ,df1])\n",
    "            if date[1] == 12:\n",
    "                 print(date[0])\n",
    "                 date[0]+=1\n",
    "                 date[1]= 1\n",
    "            else:\n",
    "                 date[1]+=1\n",
    "            \n",
    "    return df2"
   ]
  },
  {
   "cell_type": "code",
   "execution_count": 4,
   "metadata": {},
   "outputs": [
    {
     "name": "stdout",
     "output_type": "stream",
     "text": [
      "1986\n",
      "1987\n",
      "1988\n",
      "1989\n",
      "1990\n",
      "1991\n",
      "1992\n",
      "1993\n",
      "1994\n",
      "1995\n",
      "1996\n",
      "1997\n",
      "1998\n",
      "1999\n",
      "2000\n",
      "2001\n",
      "2002\n",
      "2003\n",
      "2004\n",
      "2005\n",
      "2006\n",
      "2007\n",
      "2008\n",
      "2009\n",
      "2010\n",
      "2011\n",
      "2012\n",
      "2013\n",
      "2014\n",
      "2015\n",
      "2016\n",
      "2017\n",
      "2018\n",
      "2019\n",
      "2020\n",
      "2021\n",
      "2022\n",
      "2023\n"
     ]
    }
   ],
   "source": [
    "downloaded = get_data(start,end)\n"
   ]
  },
  {
   "cell_type": "code",
   "execution_count": 5,
   "metadata": {},
   "outputs": [],
   "source": [
    "downloaded.to_csv('filewhole.csv')"
   ]
  },
  {
   "cell_type": "code",
   "execution_count": 8,
   "metadata": {},
   "outputs": [
    {
     "data": {
      "text/plain": [
       "(1625, 10)"
      ]
     },
     "execution_count": 8,
     "metadata": {},
     "output_type": "execute_result"
    }
   ],
   "source": [
    "filtered = downloaded[downloaded['headline'].str.contains(' AI |Artificial Intelligence|robot| ai |Robot|artificial intelligence|AI ', na=False)]\n",
    "filtered.shape \n"
   ]
  },
  {
   "cell_type": "code",
   "execution_count": 10,
   "metadata": {},
   "outputs": [
    {
     "data": {
      "text/html": [
       "<div>\n",
       "<style scoped>\n",
       "    .dataframe tbody tr th:only-of-type {\n",
       "        vertical-align: middle;\n",
       "    }\n",
       "\n",
       "    .dataframe tbody tr th {\n",
       "        vertical-align: top;\n",
       "    }\n",
       "\n",
       "    .dataframe thead th {\n",
       "        text-align: right;\n",
       "    }\n",
       "</style>\n",
       "<table border=\"1\" class=\"dataframe\">\n",
       "  <thead>\n",
       "    <tr style=\"text-align: right;\">\n",
       "      <th></th>\n",
       "      <th>headline</th>\n",
       "      <th>date</th>\n",
       "      <th>web_url</th>\n",
       "      <th>doc_type</th>\n",
       "      <th>lead_paragraph</th>\n",
       "      <th>material_type</th>\n",
       "      <th>author</th>\n",
       "      <th>section</th>\n",
       "      <th>subsection</th>\n",
       "      <th>keywords</th>\n",
       "    </tr>\n",
       "  </thead>\n",
       "  <tbody>\n",
       "    <tr>\n",
       "      <th>0</th>\n",
       "      <td>Sex Guide Is Recalled For Correction of Text</td>\n",
       "      <td>1986-01-01</td>\n",
       "      <td>https://www.nytimes.com/1986/01/01/books/sex-g...</td>\n",
       "      <td>article</td>\n",
       "      <td>Because of what it termed ''a serious error,''...</td>\n",
       "      <td>News</td>\n",
       "      <td></td>\n",
       "      <td>Books</td>\n",
       "      <td>None</td>\n",
       "      <td>[Sex, Children and Youth, Books and Literature...</td>\n",
       "    </tr>\n",
       "    <tr>\n",
       "      <th>1</th>\n",
       "      <td>A WOODEN VESSEL FOR PROOFING BREAD</td>\n",
       "      <td>1986-01-01</td>\n",
       "      <td>https://www.nytimes.com/1986/01/01/garden/kitc...</td>\n",
       "      <td>article</td>\n",
       "      <td>NOTHING is as soul-warming this time of year a...</td>\n",
       "      <td>News</td>\n",
       "      <td>By Pierre Franey</td>\n",
       "      <td>Home &amp; Garden</td>\n",
       "      <td>None</td>\n",
       "      <td>[]</td>\n",
       "    </tr>\n",
       "  </tbody>\n",
       "</table>\n",
       "</div>"
      ],
      "text/plain": [
       "                                       headline        date  \\\n",
       "0  Sex Guide Is Recalled For Correction of Text  1986-01-01   \n",
       "1            A WOODEN VESSEL FOR PROOFING BREAD  1986-01-01   \n",
       "\n",
       "                                             web_url doc_type  \\\n",
       "0  https://www.nytimes.com/1986/01/01/books/sex-g...  article   \n",
       "1  https://www.nytimes.com/1986/01/01/garden/kitc...  article   \n",
       "\n",
       "                                      lead_paragraph material_type  \\\n",
       "0  Because of what it termed ''a serious error,''...          News   \n",
       "1  NOTHING is as soul-warming this time of year a...          News   \n",
       "\n",
       "             author        section subsection  \\\n",
       "0                            Books       None   \n",
       "1  By Pierre Franey  Home & Garden       None   \n",
       "\n",
       "                                            keywords  \n",
       "0  [Sex, Children and Youth, Books and Literature...  \n",
       "1                                                 []  "
      ]
     },
     "execution_count": 10,
     "metadata": {},
     "output_type": "execute_result"
    }
   ],
   "source": [
    "downloaded.head(2)"
   ]
  },
  {
   "cell_type": "code",
   "execution_count": null,
   "metadata": {},
   "outputs": [],
   "source": [
    "\n",
    "#export to csv\n",
    "combined_csv.to_csv( \"combined_csv.csv\", index=False, encoding='utf-8-sig')"
   ]
  }
 ],
 "metadata": {
  "kernelspec": {
   "display_name": "BThesis",
   "language": "python",
   "name": "python3"
  },
  "language_info": {
   "codemirror_mode": {
    "name": "ipython",
    "version": 3
   },
   "file_extension": ".py",
   "mimetype": "text/x-python",
   "name": "python",
   "nbconvert_exporter": "python",
   "pygments_lexer": "ipython3",
   "version": "3.11.5"
  }
 },
 "nbformat": 4,
 "nbformat_minor": 2
}
